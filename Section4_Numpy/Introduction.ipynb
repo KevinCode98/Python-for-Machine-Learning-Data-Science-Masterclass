{
 "cells": [
  {
   "cell_type": "markdown",
   "id": "43e3e627",
   "metadata": {},
   "source": [
    "# NumPy"
   ]
  },
  {
   "cell_type": "markdown",
   "id": "1fcb022a",
   "metadata": {},
   "source": [
    "* The first python data science library we will learn about is NumPy\n",
    "\n",
    "* Almost every data science library we learn about in this course is built using NumPy!\n",
    "\n",
    "* Let's explore what this section will cover and why it is important. \n",
    "\n",
    "* Section Goals: \n",
    "    * Understand NumPy\n",
    "    * Create arrays with NumPy\n",
    "    * Retrive information from a NumPy array through slicing and indexing.\n",
    "    * Learn basic NumPy operations\n",
    "    * Test NumPy skills with exercise questioins. \n",
    "    \n",
    "* What is NumPy? \n",
    "    * Python library for creating N-dimensioinal arrays\n",
    "    * Ability to quickly broadcast functions\n",
    "    * Built-in linear algebra, statistical distributionsm trigonometricm and random number capabilities \n",
    "    \n",
    "* Why use NumPy?\n",
    "    * While NumPy structures look similar to standar Python list, they are **much** more efficent! \n",
    "    * The broadcasting capabilities are also extremely useful for quickly applying functions to our data sets. "
   ]
  }
 ],
 "metadata": {
  "kernelspec": {
   "display_name": "Python 3 (ipykernel)",
   "language": "python",
   "name": "python3"
  },
  "language_info": {
   "codemirror_mode": {
    "name": "ipython",
    "version": 3
   },
   "file_extension": ".py",
   "mimetype": "text/x-python",
   "name": "python",
   "nbconvert_exporter": "python",
   "pygments_lexer": "ipython3",
   "version": "3.9.12"
  }
 },
 "nbformat": 4,
 "nbformat_minor": 5
}
