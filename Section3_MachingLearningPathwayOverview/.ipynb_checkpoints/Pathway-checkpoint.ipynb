{
 "cells": [
  {
   "cell_type": "markdown",
   "id": "d3338d26",
   "metadata": {},
   "source": [
    "# Machine Learning Pathway"
   ]
  },
  {
   "cell_type": "markdown",
   "id": "50a154cf",
   "metadata": {},
   "source": [
    "* Let's discuss the general idea of a pathway of using Machine Learning and Data Science for a useful Real world Application.\n",
    "\n",
    "* This overvirew is very broad and in reality there is a lot of overlap between the various stages presented here. \n",
    "\n",
    "* Note that we will also try to distinguish various roles in the process such a Data Engineer, Data Analyst, Data Scientist, Machine Learning Researcher, etc...\n",
    "\n",
    "* Keep in mind ther is also a lot of overlap in these roles and different organizations label role titles differently. \n",
    "\n",
    "* Lastly keep in mind we cover all of these steps and topics in depth throughout the course, this is just a high level overview of the general process and pathway that utilizes a machine learning model. "
   ]
  },
  {
   "cell_type": "markdown",
   "id": "f7a1166a",
   "metadata": {},
   "source": [
    "* Now that we understand the general dynamics of the Data Science and Maching Learning Pathway, we can begin to focus on leaning various Python libraries well suited for each of these major components! "
   ]
  }
 ],
 "metadata": {
  "kernelspec": {
   "display_name": "Python 3 (ipykernel)",
   "language": "python",
   "name": "python3"
  },
  "language_info": {
   "codemirror_mode": {
    "name": "ipython",
    "version": 3
   },
   "file_extension": ".py",
   "mimetype": "text/x-python",
   "name": "python",
   "nbconvert_exporter": "python",
   "pygments_lexer": "ipython3",
   "version": "3.9.12"
  }
 },
 "nbformat": 4,
 "nbformat_minor": 5
}
